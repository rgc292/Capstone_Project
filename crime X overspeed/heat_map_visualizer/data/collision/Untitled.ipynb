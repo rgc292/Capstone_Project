{
 "cells": [
  {
   "cell_type": "code",
   "execution_count": 1,
   "metadata": {
    "collapsed": false
   },
   "outputs": [],
   "source": [
    "import pandas as pd\n",
    "df = pd.read_csv('0.csv', header=None, sep=',')\n",
    "df2 = pd.read_csv('1.csv', header=None, sep=',')\n",
    "df3 = pd.read_csv('2.csv', header=None, sep=',')\n",
    "df4 = pd.read_csv('3.csv', header=None, sep=',')\n",
    "df5 = pd.read_csv('4.csv', header=None, sep=',')"
   ]
  },
  {
   "cell_type": "code",
   "execution_count": 2,
   "metadata": {
    "collapsed": false
   },
   "outputs": [
    {
     "name": "stdout",
     "output_type": "stream",
     "text": [
      "40.7024547\n",
      "40.7015053\n",
      "40.701503\n",
      "40.7010774\n",
      "40.7010774\n"
     ]
    }
   ],
   "source": [
    "print df[1].min()\n",
    "print df2[1].min()\n",
    "print df3[1].min()\n",
    "print df4[1].min()\n",
    "print df5[1].min()"
   ]
  },
  {
   "cell_type": "code",
   "execution_count": 3,
   "metadata": {
    "collapsed": false
   },
   "outputs": [
    {
     "name": "stdout",
     "output_type": "stream",
     "text": [
      "40.8755006\n",
      "40.8762676\n",
      "40.8770918\n",
      "40.8762676\n",
      "40.8723846\n"
     ]
    }
   ],
   "source": [
    "print df[1].max()\n",
    "print df2[1].max()\n",
    "print df3[1].max()\n",
    "print df4[1].max()\n",
    "print df5[1].max()"
   ]
  },
  {
   "cell_type": "code",
   "execution_count": 4,
   "metadata": {
    "collapsed": false
   },
   "outputs": [
    {
     "name": "stdout",
     "output_type": "stream",
     "text": [
      "-74.0169951\n",
      "-74.0179293\n",
      "-74.0179293\n",
      "-74.0179293\n",
      "-74.0166846\n"
     ]
    }
   ],
   "source": [
    "print df[2].min()\n",
    "print df2[2].min()\n",
    "print df3[2].min()\n",
    "print df4[2].min()\n",
    "print df5[2].min()"
   ]
  },
  {
   "cell_type": "code",
   "execution_count": 5,
   "metadata": {
    "collapsed": false
   },
   "outputs": [
    {
     "name": "stdout",
     "output_type": "stream",
     "text": [
      "-73.9127363\n",
      "-73.9127363\n",
      "-73.9127363\n",
      "-73.9127363\n",
      "-73.9116822\n"
     ]
    }
   ],
   "source": [
    "print df[2].max()\n",
    "print df2[2].max()\n",
    "print df3[2].max()\n",
    "print df4[2].max()\n",
    "print df5[2].max()"
   ]
  },
  {
   "cell_type": "code",
   "execution_count": 6,
   "metadata": {
    "collapsed": false
   },
   "outputs": [
    {
     "data": {
      "text/plain": [
       "True"
      ]
     },
     "execution_count": 6,
     "metadata": {},
     "output_type": "execute_result"
    }
   ],
   "source": [
    "df4[2].max() > df5[2].max()"
   ]
  },
  {
   "cell_type": "code",
   "execution_count": 6,
   "metadata": {
    "collapsed": false
   },
   "outputs": [
    {
     "data": {
      "text/plain": [
       "26063"
      ]
     },
     "execution_count": 6,
     "metadata": {},
     "output_type": "execute_result"
    }
   ],
   "source": [
    "3375+6707+6189+6013+3779"
   ]
  },
  {
   "cell_type": "code",
   "execution_count": null,
   "metadata": {
    "collapsed": true
   },
   "outputs": [],
   "source": []
  }
 ],
 "metadata": {
  "kernelspec": {
   "display_name": "Python 2",
   "language": "python",
   "name": "python2"
  },
  "language_info": {
   "codemirror_mode": {
    "name": "ipython",
    "version": 2
   },
   "file_extension": ".py",
   "mimetype": "text/x-python",
   "name": "python",
   "nbconvert_exporter": "python",
   "pygments_lexer": "ipython2",
   "version": "2.7.12"
  }
 },
 "nbformat": 4,
 "nbformat_minor": 0
}
