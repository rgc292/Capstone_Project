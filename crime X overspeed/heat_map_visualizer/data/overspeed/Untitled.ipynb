{
 "cells": [
  {
   "cell_type": "code",
   "execution_count": 33,
   "metadata": {
    "collapsed": true
   },
   "outputs": [],
   "source": [
    "import pandas as pd\n",
    "df = pd.read_csv('0.csv', header=None, sep=',')\n",
    "df2 = pd.read_csv('1.csv', header=None, sep=',')\n",
    "df3 = pd.read_csv('2.csv', header=None, sep=',')\n",
    "df4 = pd.read_csv('3.csv', header=None, sep=',')\n",
    "df5 = pd.read_csv('4.csv', header=None, sep=',')\n",
    "df6 = pd.read_csv('5.csv', header=None, sep=',')"
   ]
  },
  {
   "cell_type": "code",
   "execution_count": 34,
   "metadata": {
    "collapsed": false
   },
   "outputs": [
    {
     "name": "stdout",
     "output_type": "stream",
     "text": [
      "40.702001\n",
      "40.701943\n",
      "40.702126\n",
      "40.701309\n",
      "40.7017822266\n",
      "40.7014312744\n"
     ]
    }
   ],
   "source": [
    "print df[1].min()\n",
    "print df2[1].min()\n",
    "print df3[1].min()\n",
    "print df4[1].min()\n",
    "print df5[1].min()\n",
    "print df6[1].min()"
   ]
  },
  {
   "cell_type": "code",
   "execution_count": 35,
   "metadata": {
    "collapsed": false
   },
   "outputs": [
    {
     "name": "stdout",
     "output_type": "stream",
     "text": [
      "40.8714\n",
      "40.875778\n",
      "40.874601\n",
      "40.874723\n",
      "40.8617668152\n",
      "40.8657302856\n"
     ]
    }
   ],
   "source": [
    "print df[1].max()\n",
    "print df2[1].max()\n",
    "print df3[1].max()\n",
    "print df4[1].max()\n",
    "print df5[1].max()\n",
    "print df6[1].max()"
   ]
  },
  {
   "cell_type": "code",
   "execution_count": 36,
   "metadata": {
    "collapsed": false
   },
   "outputs": [
    {
     "name": "stdout",
     "output_type": "stream",
     "text": [
      "-74.018358\n",
      "-74.017726\n",
      "-74.017734\n",
      "-74.017302\n",
      "-74.0180053711\n",
      "-74.0176086426\n"
     ]
    }
   ],
   "source": [
    "print df[2].min()\n",
    "print df2[2].min()\n",
    "print df3[2].min()\n",
    "print df4[2].min()\n",
    "print df5[2].min()\n",
    "print df6[2].min()"
   ]
  },
  {
   "cell_type": "code",
   "execution_count": 37,
   "metadata": {
    "collapsed": false
   },
   "outputs": [
    {
     "name": "stdout",
     "output_type": "stream",
     "text": [
      "-73.916342\n",
      "-73.921516\n",
      "-73.922785\n",
      "-73.922463\n",
      "-73.9286575317\n",
      "-73.9230041504\n"
     ]
    }
   ],
   "source": [
    "print df[2].max()\n",
    "print df2[2].max()\n",
    "print df3[2].max()\n",
    "print df4[2].max()\n",
    "print df5[2].max()\n",
    "print df6[2].max()"
   ]
  },
  {
   "cell_type": "code",
   "execution_count": 25,
   "metadata": {
    "collapsed": false
   },
   "outputs": [
    {
     "data": {
      "text/plain": [
       "True"
      ]
     },
     "execution_count": 25,
     "metadata": {},
     "output_type": "execute_result"
    }
   ],
   "source": [
    "df[2].max() > df4[2].max()"
   ]
  },
  {
   "cell_type": "code",
   "execution_count": 32,
   "metadata": {
    "collapsed": false
   },
   "outputs": [
    {
     "data": {
      "text/plain": [
       "16798"
      ]
     },
     "execution_count": 32,
     "metadata": {},
     "output_type": "execute_result"
    }
   ],
   "source": [
    "2186+3013+3348+2662+3454+2135"
   ]
  },
  {
   "cell_type": "code",
   "execution_count": null,
   "metadata": {
    "collapsed": true
   },
   "outputs": [],
   "source": []
  }
 ],
 "metadata": {
  "kernelspec": {
   "display_name": "Python 2",
   "language": "python",
   "name": "python2"
  },
  "language_info": {
   "codemirror_mode": {
    "name": "ipython",
    "version": 2
   },
   "file_extension": ".py",
   "mimetype": "text/x-python",
   "name": "python",
   "nbconvert_exporter": "python",
   "pygments_lexer": "ipython2",
   "version": "2.7.12"
  }
 },
 "nbformat": 4,
 "nbformat_minor": 0
}
